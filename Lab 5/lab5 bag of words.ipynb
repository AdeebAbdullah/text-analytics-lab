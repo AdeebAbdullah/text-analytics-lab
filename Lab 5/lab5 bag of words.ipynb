{
 "cells": [
  {
   "cell_type": "code",
   "execution_count": 1,
   "id": "f6ef8ff2-4b7d-446f-a696-19269ce9db97",
   "metadata": {},
   "outputs": [],
   "source": [
    "from collections import Counter #count word occurrences \n",
    "import pandas as pd "
   ]
  },
  {
   "cell_type": "code",
   "execution_count": 3,
   "id": "ef4afe8d-8247-408e-964e-ccb7a63d2be7",
   "metadata": {},
   "outputs": [],
   "source": [
    "file_path = \"Processed_Reviews.csv\" \n",
    "df = pd.read_csv(file_path) "
   ]
  },
  {
   "cell_type": "code",
   "execution_count": 5,
   "id": "8dff7187-2fcc-47fa-ba8a-8ad4e4317426",
   "metadata": {},
   "outputs": [],
   "source": [
    "tokenized_reviews = df['tokenized'].dropna().apply(eval) "
   ]
  },
  {
   "cell_type": "code",
   "execution_count": 7,
   "id": "dc36e6d9-e917-487e-b923-c49e65a2182c",
   "metadata": {},
   "outputs": [],
   "source": [
    "all_words = [word for review in tokenized_reviews for word in review] \n",
    "unique_words = list(set(all_words)) "
   ]
  },
  {
   "cell_type": "code",
   "execution_count": 11,
   "id": "4165c238-b6ef-452c-bb56-1d22d253f6c6",
   "metadata": {},
   "outputs": [],
   "source": [
    "word_freq = Counter(all_words) \n",
    "sorted_word_freq = dict(sorted(word_freq.items(), \n",
    "reverse=True)) "
   ]
  },
  {
   "cell_type": "code",
   "execution_count": 15,
   "id": "1b5be432-e3c5-49da-9ecf-c11ab08c81f1",
   "metadata": {},
   "outputs": [],
   "source": [
    "document_vectors = [] \n",
    "for review in tokenized_reviews: \n",
    "    document_vector = [1 if word in review else 0 for word in sorted_word_freq.keys()] \n",
    "    document_vectors.append(document_vector) "
   ]
  },
  {
   "cell_type": "code",
   "execution_count": 17,
   "id": "234676d9-de33-4e9f-811e-db6b4b1b8681",
   "metadata": {},
   "outputs": [],
   "source": [
    "doc_vectors_df = pd.DataFrame(document_vectors, columns=sorted_word_freq.keys()) "
   ]
  },
  {
   "cell_type": "code",
   "execution_count": 19,
   "id": "5b2ea856-785b-40bd-a82f-82eb8c9bc9e4",
   "metadata": {},
   "outputs": [],
   "source": [
    "doc_vectors_df.to_csv(\"document_vectors.csv\", index=False)"
   ]
  },
  {
   "cell_type": "code",
   "execution_count": 23,
   "id": "1a2d7bcb-81fc-4a5f-82c8-50d5e84923ac",
   "metadata": {},
   "outputs": [
    {
     "name": "stdout",
     "output_type": "stream",
     "text": [
      "Word Frequency Table:\n",
      "           Word  Frequency\n",
      "0           wow          1\n",
      "1         worth          1\n",
      "2          work          2\n",
      "3           use          1\n",
      "4       totally          1\n",
      "5          time          1\n",
      "6         short          1\n",
      "7          shoe          1\n",
      "8       quality          3\n",
      "9      purchase          1\n",
      "10      product          7\n",
      "11        phone          1\n",
      "12    perfectly          2\n",
      "13    packaging          1\n",
      "14           oh          1\n",
      "15          not          1\n",
      "16       nicely          1\n",
      "17         much          1\n",
      "18         love          2\n",
      "19         life          2\n",
      "20       laptop          1\n",
      "21          jog          1\n",
      "22           hz          1\n",
      "23       honest          1\n",
      "24        happy          1\n",
      "25        great          2\n",
      "26         good          1\n",
      "27          god          1\n",
      "28         full          1\n",
      "29          fit          1\n",
      "30         fine          1\n",
      "31         fast          1\n",
      "32    expensive          1\n",
      "33       expect          2\n",
      "34    excellent          1\n",
      "35         ever          1\n",
      "36      display          1\n",
      "37       detail          1\n",
      "38     delivery          1\n",
      "39  comfortable          1\n",
      "40        check          1\n",
      "41       charge          1\n",
      "42          can          1\n",
      "43        cable          1\n",
      "44          buy          1\n",
      "45          bit          1\n",
      "46         best          1\n",
      "47      believe          1\n",
      "48      battery          1\n",
      "49      awesome          2\n",
      "50       arrive          1\n",
      "51      amazing          2\n",
      "52        amaze          1\n"
     ]
    }
   ],
   "source": [
    "word_freq_df = pd.DataFrame(list(sorted_word_freq.items()), columns=[\"Word\", \"Frequency\"]) \n",
    "print(\"Word Frequency Table:\") \n",
    "print(word_freq_df) "
   ]
  }
 ],
 "metadata": {
  "kernelspec": {
   "display_name": "Python 3 (ipykernel)",
   "language": "python",
   "name": "python3"
  },
  "language_info": {
   "codemirror_mode": {
    "name": "ipython",
    "version": 3
   },
   "file_extension": ".py",
   "mimetype": "text/x-python",
   "name": "python",
   "nbconvert_exporter": "python",
   "pygments_lexer": "ipython3",
   "version": "3.12.4"
  }
 },
 "nbformat": 4,
 "nbformat_minor": 5
}
