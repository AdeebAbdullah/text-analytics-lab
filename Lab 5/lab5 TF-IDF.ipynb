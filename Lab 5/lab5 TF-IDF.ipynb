{
 "cells": [
  {
   "cell_type": "code",
   "execution_count": 1,
   "id": "0a6609fd-0e57-40bc-a89f-dc8b420c12af",
   "metadata": {},
   "outputs": [],
   "source": [
    "import pandas as pd \n",
    "import math # use for log function \n",
    "from collections import Counter "
   ]
  },
  {
   "cell_type": "code",
   "execution_count": 3,
   "id": "9057f36a-a949-44cd-ad53-7756b0c676af",
   "metadata": {},
   "outputs": [],
   "source": [
    "file_path = \"Processed_Reviews.csv\" \n",
    "df = pd.read_csv(file_path) "
   ]
  },
  {
   "cell_type": "code",
   "execution_count": 5,
   "id": "4d00ad7d-e62d-4857-b4b6-6f076fa1f5fd",
   "metadata": {},
   "outputs": [],
   "source": [
    "tokenized_reviews = df['tokenized'].dropna().apply(eval) "
   ]
  },
  {
   "cell_type": "code",
   "execution_count": 11,
   "id": "1d08f615-4a19-4bab-b1f5-38034eb81c30",
   "metadata": {},
   "outputs": [],
   "source": [
    "def compute_tf(document): \n",
    "    word_count = Counter(document) \n",
    "    tf = {word: count / len(document) for word, count in word_count.items()} \n",
    "    return tf "
   ]
  },
  {
   "cell_type": "code",
   "execution_count": 19,
   "id": "97eaa925-cf5a-4df0-bf03-002a71a9528d",
   "metadata": {},
   "outputs": [],
   "source": [
    "def compute_idf(documents): \n",
    "    N = len(documents)  # Total number of documents \n",
    "    idf = {} \n",
    "    all_words = set(word for doc in documents for word in doc)  # Unique words \n",
    "    for word in all_words: \n",
    "        count = sum(1 for doc in documents if word in doc) \n",
    "        idf[word] = math.log(N / count) \n",
    "    return idf "
   ]
  },
  {
   "cell_type": "code",
   "execution_count": 27,
   "id": "f1f48519-2d5b-4d3f-a002-d2c509ff830e",
   "metadata": {},
   "outputs": [],
   "source": [
    "def compute_tfidf(document, idf):\n",
    "    tfidf = {} \n",
    "    tf = compute_tf(document)  # Get TF values for the document \n",
    "    for word, tf_value in tf.items(): \n",
    "        tfidf[word] = tf_value * idf[word]  # Multiply TF and IDF \n",
    "    return tfidf "
   ]
  },
  {
   "cell_type": "code",
   "execution_count": 29,
   "id": "ac5c6d9c-1b3e-41c2-821a-38036a0e6e57",
   "metadata": {},
   "outputs": [],
   "source": [
    "documents = tokenized_reviews.tolist() "
   ]
  },
  {
   "cell_type": "code",
   "execution_count": 31,
   "id": "152361bc-318e-4753-837e-70d70b74b6f8",
   "metadata": {},
   "outputs": [],
   "source": [
    "tf_data = [compute_tf(doc) for doc in documents] \n",
    "tf_df = pd.DataFrame(tf_data).fillna(0) \n",
    "tf_df.to_csv(\"tf_scores.csv\", index=False) "
   ]
  },
  {
   "cell_type": "code",
   "execution_count": 33,
   "id": "81b8253f-3946-4d86-a5e0-daa6948cf63b",
   "metadata": {},
   "outputs": [],
   "source": [
    "idf = compute_idf(documents) \n",
    "idf_df = pd.DataFrame([idf]).fillna(0) \n",
    "idf_df.to_csv(\"idf_scores.csv\", index=False) "
   ]
  },
  {
   "cell_type": "code",
   "execution_count": 35,
   "id": "029c0b11-b150-4a3e-80eb-145b8f6808d7",
   "metadata": {},
   "outputs": [],
   "source": [
    "tfidf_data = [compute_tfidf(doc, idf) for doc in documents] \n",
    "tfidf_df = pd.DataFrame(tfidf_data).fillna(0) \n",
    "tfidf_df.to_csv(\"tfidf_scores.csv\", index=False) "
   ]
  }
 ],
 "metadata": {
  "kernelspec": {
   "display_name": "Python 3 (ipykernel)",
   "language": "python",
   "name": "python3"
  },
  "language_info": {
   "codemirror_mode": {
    "name": "ipython",
    "version": 3
   },
   "file_extension": ".py",
   "mimetype": "text/x-python",
   "name": "python",
   "nbconvert_exporter": "python",
   "pygments_lexer": "ipython3",
   "version": "3.12.4"
  }
 },
 "nbformat": 4,
 "nbformat_minor": 5
}
